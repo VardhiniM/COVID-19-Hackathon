{
 "cells": [
  {
   "cell_type": "markdown",
   "metadata": {},
   "source": [
    "# Covid Challenge 2020"
   ]
  },
  {
   "cell_type": "markdown",
   "metadata": {},
   "source": [
    "The Aim of this notebook is to predict the bed requirements across states in US as a measure to controll CoVID cases in a particular state\n",
    "\n",
    "\n",
    "We believe medical professionals and government will be the key stakeholders for this project\n",
    "\n",
    "\n",
    "The success measure is that the confidence interval of the predicted beds for a state is less than 100 for any state"
   ]
  },
  {
   "cell_type": "code",
   "execution_count": 1,
   "metadata": {},
   "outputs": [],
   "source": [
    "import pandas as pd\n",
    "import numpy as np\n",
    "from sklearn import preprocessing\n",
    "import seaborn as sns\n",
    "import matplotlib.pyplot as plt\n",
    "from dateutil.parser import parse \n",
    "import matplotlib as mpl\n",
    "import matplotlib.pyplot as plt\n",
    "from sklearn.model_selection import train_test_split\n",
    "from sklearn import linear_model"
   ]
  },
  {
   "cell_type": "markdown",
   "metadata": {},
   "source": [
    "## Data sources :\n",
    "#### Census Data,  IHME Data, Google Mobility,  NY Times articles, Worldometer.com\n"
   ]
  },
  {
   "cell_type": "code",
   "execution_count": 156,
   "metadata": {},
   "outputs": [],
   "source": [
    "hospital = pd.read_excel(\"hospital_needs.xlsx\")\n",
    "population_den = pd.read_csv(\"population density.csv\")\n",
    "mobility = pd.read_excel(\"mobility_final.xlsx\")\n",
    "cases = pd.read_excel(\"us-states-cases.xlsx\")\n",
    "demographic = pd.read_excel(\"Demographic Raw Data.xlsx\")"
   ]
  },
  {
   "cell_type": "markdown",
   "metadata": {},
   "source": [
    "Demographic data set has details of age, gender and race which seems to be affect the CoVID spread"
   ]
  },
  {
   "cell_type": "code",
   "execution_count": 3,
   "metadata": {},
   "outputs": [],
   "source": [
    "demographic.head()\n",
    "demographic_subset = demographic.drop([\"ID\",\"Total population\",\n",
    "                        \"Land Area (sq mi)\",\"Male\",\"Female\",\"Under 5 years\",\n",
    "                        \"5 to 9 years\",\"5 to 9 years\",\"10 to 14 years\",\n",
    "                        \"15 to 19 years\",\"20 to 24 years\",\"25 to 34 years\",\n",
    "                        \"35 to 44 years\",\"45 to 54 years\",\"55 to 59 years\",\n",
    "                        \"60 to 64 years\",\"65 to 74 years\",\"75 to 84 years\",\n",
    "                        \"75 to 84 years\",\"85 years and over\",\"RACE!!Total population\",\"One White\",\n",
    "                        \"One Black or African American\",\"One American Indian and Alaska Native\",\"Asian\",\n",
    "                        \"One Native Hawaiian and Other Pacific Islander\",\"One Some other race\",\n",
    "                        \"HISPANIC OR LATINO AND Hispanic or Latino\",\"Total housing units\"],axis = 1)"
   ]
  },
  {
   "cell_type": "markdown",
   "metadata": {},
   "source": [
    "The below visualization helps us see correlations between demographic data and the cases and deaths"
   ]
  },
  {
   "cell_type": "code",
   "execution_count": 4,
   "metadata": {},
   "outputs": [
    {
     "data": {
      "text/html": [
       "<div>\n",
       "<style scoped>\n",
       "    .dataframe tbody tr th:only-of-type {\n",
       "        vertical-align: middle;\n",
       "    }\n",
       "\n",
       "    .dataframe tbody tr th {\n",
       "        vertical-align: top;\n",
       "    }\n",
       "\n",
       "    .dataframe thead th {\n",
       "        text-align: right;\n",
       "    }\n",
       "</style>\n",
       "<table border=\"1\" class=\"dataframe\">\n",
       "  <thead>\n",
       "    <tr style=\"text-align: right;\">\n",
       "      <th></th>\n",
       "      <th>date</th>\n",
       "      <th>state</th>\n",
       "      <th>fips (Govt. code)</th>\n",
       "      <th>cases</th>\n",
       "      <th>deaths</th>\n",
       "      <th>State Groups</th>\n",
       "    </tr>\n",
       "  </thead>\n",
       "  <tbody>\n",
       "    <tr>\n",
       "      <td>2026</td>\n",
       "      <td>2020-04-11</td>\n",
       "      <td>Alabama</td>\n",
       "      <td>1</td>\n",
       "      <td>3262</td>\n",
       "      <td>93</td>\n",
       "      <td>Middle -2</td>\n",
       "    </tr>\n",
       "    <tr>\n",
       "      <td>2027</td>\n",
       "      <td>2020-04-11</td>\n",
       "      <td>Alaska</td>\n",
       "      <td>2</td>\n",
       "      <td>255</td>\n",
       "      <td>6</td>\n",
       "      <td>Bottom</td>\n",
       "    </tr>\n",
       "    <tr>\n",
       "      <td>2028</td>\n",
       "      <td>2020-04-11</td>\n",
       "      <td>Arizona</td>\n",
       "      <td>4</td>\n",
       "      <td>3393</td>\n",
       "      <td>112</td>\n",
       "      <td>Middle -2</td>\n",
       "    </tr>\n",
       "    <tr>\n",
       "      <td>2029</td>\n",
       "      <td>2020-04-11</td>\n",
       "      <td>Arkansas</td>\n",
       "      <td>5</td>\n",
       "      <td>1228</td>\n",
       "      <td>25</td>\n",
       "      <td>Bottom</td>\n",
       "    </tr>\n",
       "    <tr>\n",
       "      <td>2030</td>\n",
       "      <td>2020-04-11</td>\n",
       "      <td>California</td>\n",
       "      <td>6</td>\n",
       "      <td>22421</td>\n",
       "      <td>632</td>\n",
       "      <td>Top</td>\n",
       "    </tr>\n",
       "  </tbody>\n",
       "</table>\n",
       "</div>"
      ],
      "text/plain": [
       "           date       state  fips (Govt. code)  cases  deaths State Groups\n",
       "2026 2020-04-11     Alabama                  1   3262      93    Middle -2\n",
       "2027 2020-04-11      Alaska                  2    255       6       Bottom\n",
       "2028 2020-04-11     Arizona                  4   3393     112    Middle -2\n",
       "2029 2020-04-11    Arkansas                  5   1228      25       Bottom\n",
       "2030 2020-04-11  California                  6  22421     632          Top"
      ]
     },
     "execution_count": 4,
     "metadata": {},
     "output_type": "execute_result"
    }
   ],
   "source": [
    "latest_cases = cases[cases[\"date\"] == \"2020-04-11\"]\n",
    "latest_cases.head()"
   ]
  },
  {
   "cell_type": "code",
   "execution_count": 5,
   "metadata": {},
   "outputs": [],
   "source": [
    "demographic_cases = pd.merge(latest_cases, demographic_subset, left_on = \"state\", right_on = \"State\", how = \"inner\")\n",
    "corr_mat = demographic_cases.corr(\"pearson\")"
   ]
  },
  {
   "cell_type": "code",
   "execution_count": 7,
   "metadata": {},
   "outputs": [
    {
     "data": {
      "text/plain": [
       "<matplotlib.axes._subplots.AxesSubplot at 0x27d89f73088>"
      ]
     },
     "execution_count": 7,
     "metadata": {},
     "output_type": "execute_result"
    },
    {
     "data": {
      "image/png": "[encoded data removed]",
      "text/plain": [
       "<Figure size 792x648 with 2 Axes>"
      ]
     },
     "metadata": {
      "needs_background": "light"
     },
     "output_type": "display_data"
    }
   ],
   "source": [
    "f, ax = plt.subplots(figsize=(11, 9))\n",
    "sns.heatmap(corr_mat)"
   ]
  },
  {
   "cell_type": "markdown",
   "metadata": {},
   "source": [
    "Social distancing is the only proven effective way to mitigate spread, social_dist is a dataframe which maps states to the lockdown dates \n",
    "\n",
    "Population density looks at density per square mile and the population of each states"
   ]
  },
  {
   "cell_type": "code",
   "execution_count": 8,
   "metadata": {},
   "outputs": [
    {
     "data": {
      "text/html": [
       "<div>\n",
       "<style scoped>\n",
       "    .dataframe tbody tr th:only-of-type {\n",
       "        vertical-align: middle;\n",
       "    }\n",
       "\n",
       "    .dataframe tbody tr th {\n",
       "        vertical-align: top;\n",
       "    }\n",
       "\n",
       "    .dataframe thead th {\n",
       "        text-align: right;\n",
       "    }\n",
       "</style>\n",
       "<table border=\"1\" class=\"dataframe\">\n",
       "  <thead>\n",
       "    <tr style=\"text-align: right;\">\n",
       "      <th></th>\n",
       "      <th>State</th>\n",
       "      <th>Density</th>\n",
       "      <th>Pop</th>\n",
       "      <th>LandArea</th>\n",
       "    </tr>\n",
       "  </thead>\n",
       "  <tbody>\n",
       "    <tr>\n",
       "      <td>0</td>\n",
       "      <td>District of Columbia</td>\n",
       "      <td>11814.5410</td>\n",
       "      <td>720687</td>\n",
       "      <td>61</td>\n",
       "    </tr>\n",
       "    <tr>\n",
       "      <td>1</td>\n",
       "      <td>New Jersey</td>\n",
       "      <td>1215.1991</td>\n",
       "      <td>8936574</td>\n",
       "      <td>7354</td>\n",
       "    </tr>\n",
       "    <tr>\n",
       "      <td>2</td>\n",
       "      <td>Rhode Island</td>\n",
       "      <td>1021.4323</td>\n",
       "      <td>1056161</td>\n",
       "      <td>1034</td>\n",
       "    </tr>\n",
       "    <tr>\n",
       "      <td>3</td>\n",
       "      <td>Massachusetts</td>\n",
       "      <td>894.4355</td>\n",
       "      <td>6976597</td>\n",
       "      <td>7800</td>\n",
       "    </tr>\n",
       "    <tr>\n",
       "      <td>4</td>\n",
       "      <td>Connecticut</td>\n",
       "      <td>735.8689</td>\n",
       "      <td>3563077</td>\n",
       "      <td>4842</td>\n",
       "    </tr>\n",
       "  </tbody>\n",
       "</table>\n",
       "</div>"
      ],
      "text/plain": [
       "                  State     Density      Pop  LandArea\n",
       "0  District of Columbia  11814.5410   720687        61\n",
       "1            New Jersey   1215.1991  8936574      7354\n",
       "2          Rhode Island   1021.4323  1056161      1034\n",
       "3         Massachusetts    894.4355  6976597      7800\n",
       "4           Connecticut    735.8689  3563077      4842"
      ]
     },
     "execution_count": 8,
     "metadata": {},
     "output_type": "execute_result"
    }
   ],
   "source": [
    "social_dist = population_den[[\"State.1\",\"Social distance start date\"]]\n",
    "population_den = population_den.iloc[:,0:4]\n",
    "population_den.head()"
   ]
  },
  {
   "cell_type": "code",
   "execution_count": 9,
   "metadata": {},
   "outputs": [
    {
     "data": {
      "text/html": [
       "<div>\n",
       "<style scoped>\n",
       "    .dataframe tbody tr th:only-of-type {\n",
       "        vertical-align: middle;\n",
       "    }\n",
       "\n",
       "    .dataframe tbody tr th {\n",
       "        vertical-align: top;\n",
       "    }\n",
       "\n",
       "    .dataframe thead th {\n",
       "        text-align: right;\n",
       "    }\n",
       "</style>\n",
       "<table border=\"1\" class=\"dataframe\">\n",
       "  <thead>\n",
       "    <tr style=\"text-align: right;\">\n",
       "      <th></th>\n",
       "      <th>State.1</th>\n",
       "      <th>Social distance start date</th>\n",
       "    </tr>\n",
       "  </thead>\n",
       "  <tbody>\n",
       "    <tr>\n",
       "      <td>0</td>\n",
       "      <td>Alabama</td>\n",
       "      <td>4/4/2020</td>\n",
       "    </tr>\n",
       "    <tr>\n",
       "      <td>1</td>\n",
       "      <td>Alaska</td>\n",
       "      <td>3/28/2020</td>\n",
       "    </tr>\n",
       "    <tr>\n",
       "      <td>2</td>\n",
       "      <td>Arizona</td>\n",
       "      <td>3/31/2020</td>\n",
       "    </tr>\n",
       "    <tr>\n",
       "      <td>3</td>\n",
       "      <td>Arkansas</td>\n",
       "      <td>NaN</td>\n",
       "    </tr>\n",
       "    <tr>\n",
       "      <td>4</td>\n",
       "      <td>California</td>\n",
       "      <td>3/19/2020</td>\n",
       "    </tr>\n",
       "  </tbody>\n",
       "</table>\n",
       "</div>"
      ],
      "text/plain": [
       "      State.1 Social distance start date\n",
       "0     Alabama                   4/4/2020\n",
       "1      Alaska                  3/28/2020\n",
       "2     Arizona                  3/31/2020\n",
       "3    Arkansas                        NaN\n",
       "4  California                  3/19/2020"
      ]
     },
     "execution_count": 9,
     "metadata": {},
     "output_type": "execute_result"
    }
   ],
   "source": [
    "social_dist.head()"
   ]
  },
  {
   "cell_type": "markdown",
   "metadata": {},
   "source": [
    "## Trends"
   ]
  },
  {
   "cell_type": "markdown",
   "metadata": {},
   "source": [
    "Looking at sinmle trend in all cases, more detailed trends are on the tableau dashboard in the github link"
   ]
  },
  {
   "cell_type": "code",
   "execution_count": 10,
   "metadata": {},
   "outputs": [],
   "source": [
    "def plot_df(df, x, y, title=\"\", xlabel='Date', ylabel='Total infections', dpi=100):\n",
    "    plt.figure(figsize=(16,5), dpi=dpi)\n",
    "    plt.plot(x, y, color='tab:red')\n",
    "    plt.gca().set(title=title, xlabel=xlabel, ylabel=ylabel)\n",
    "    plt.show()"
   ]
  },
  {
   "cell_type": "code",
   "execution_count": 11,
   "metadata": {},
   "outputs": [
    {
     "name": "stderr",
     "output_type": "stream",
     "text": [
      "C:\\Users\\tkblu\\AppData\\Local\\Continuum\\anaconda3\\lib\\site-packages\\pandas\\plotting\\_matplotlib\\converter.py:103: FutureWarning: Using an implicitly registered datetime converter for a matplotlib plotting method. The converter was registered by pandas on import. Future versions of pandas will require you to explicitly register matplotlib converters.\n",
      "\n",
      "To register the converters:\n",
      "\t>>> from pandas.plotting import register_matplotlib_converters\n",
      "\t>>> register_matplotlib_converters()\n",
      "  warnings.warn(msg, FutureWarning)\n"
     ]
    },
    {
     "data": {
      "image/png": "[encoded data removed]",
      "text/plain": [
       "<Figure size 1600x500 with 1 Axes>"
      ]
     },
     "metadata": {
      "needs_background": "light"
     },
     "output_type": "display_data"
    }
   ],
   "source": [
    "plot_df(cases, x = cases.date, y = cases.cases, title='daily cases trend in US')  "
   ]
  },
  {
   "cell_type": "markdown",
   "metadata": {},
   "source": [
    "## Time series Analysis "
   ]
  },
  {
   "cell_type": "markdown",
   "metadata": {},
   "source": [
    "Given that the number of beds required on a day is a function of the number of days required the previous day\n",
    "Due to the time series nature of the spread we will implement a state space mode to predict the future beds\n",
    "\n",
    "\n",
    "The prediction is also indicative of the total infection "
   ]
  },
  {
   "cell_type": "markdown",
   "metadata": {},
   "source": [
    "## Hospital data set "
   ]
  },
  {
   "cell_type": "markdown",
   "metadata": {},
   "source": [
    "The below cells will combine the hospital data with population, social distancing and daily cases data to predict the new bed requirement"
   ]
  },
  {
   "cell_type": "code",
   "execution_count": 12,
   "metadata": {},
   "outputs": [],
   "source": [
    "hospital_subset = hospital[[\"location_name\",\"date\",\"allbed_mean\",\"ICUbed_mean\",\n",
    "                            \"InvVen_mean\",\"admis_mean\",\"newICU_mean\",\"totdea_mean\",\n",
    "                            \"bedover_mean\",\"icuover_mean\"]]"
   ]
  },
  {
   "cell_type": "code",
   "execution_count": 13,
   "metadata": {},
   "outputs": [
    {
     "data": {
      "text/html": [
       "<div>\n",
       "<style scoped>\n",
       "    .dataframe tbody tr th:only-of-type {\n",
       "        vertical-align: middle;\n",
       "    }\n",
       "\n",
       "    .dataframe tbody tr th {\n",
       "        vertical-align: top;\n",
       "    }\n",
       "\n",
       "    .dataframe thead th {\n",
       "        text-align: right;\n",
       "    }\n",
       "</style>\n",
       "<table border=\"1\" class=\"dataframe\">\n",
       "  <thead>\n",
       "    <tr style=\"text-align: right;\">\n",
       "      <th></th>\n",
       "      <th>location_name</th>\n",
       "      <th>date</th>\n",
       "      <th>allbed_mean</th>\n",
       "      <th>ICUbed_mean</th>\n",
       "      <th>InvVen_mean</th>\n",
       "      <th>admis_mean</th>\n",
       "      <th>newICU_mean</th>\n",
       "      <th>totdea_mean</th>\n",
       "      <th>bedover_mean</th>\n",
       "      <th>icuover_mean</th>\n",
       "      <th>State</th>\n",
       "      <th>Density</th>\n",
       "      <th>Pop</th>\n",
       "      <th>LandArea</th>\n",
       "    </tr>\n",
       "  </thead>\n",
       "  <tbody>\n",
       "    <tr>\n",
       "      <td>0</td>\n",
       "      <td>Wyoming</td>\n",
       "      <td>2020-01-03</td>\n",
       "      <td>0.0</td>\n",
       "      <td>0.0</td>\n",
       "      <td>0.0</td>\n",
       "      <td>0.0</td>\n",
       "      <td>0.0</td>\n",
       "      <td>0.0</td>\n",
       "      <td>0.0</td>\n",
       "      <td>0.0</td>\n",
       "      <td>Wyoming</td>\n",
       "      <td>5.84</td>\n",
       "      <td>567025</td>\n",
       "      <td>97093</td>\n",
       "    </tr>\n",
       "    <tr>\n",
       "      <td>1</td>\n",
       "      <td>Wyoming</td>\n",
       "      <td>2020-01-04</td>\n",
       "      <td>0.0</td>\n",
       "      <td>0.0</td>\n",
       "      <td>0.0</td>\n",
       "      <td>0.0</td>\n",
       "      <td>0.0</td>\n",
       "      <td>0.0</td>\n",
       "      <td>0.0</td>\n",
       "      <td>0.0</td>\n",
       "      <td>Wyoming</td>\n",
       "      <td>5.84</td>\n",
       "      <td>567025</td>\n",
       "      <td>97093</td>\n",
       "    </tr>\n",
       "    <tr>\n",
       "      <td>2</td>\n",
       "      <td>Wyoming</td>\n",
       "      <td>2020-01-05</td>\n",
       "      <td>0.0</td>\n",
       "      <td>0.0</td>\n",
       "      <td>0.0</td>\n",
       "      <td>0.0</td>\n",
       "      <td>0.0</td>\n",
       "      <td>0.0</td>\n",
       "      <td>0.0</td>\n",
       "      <td>0.0</td>\n",
       "      <td>Wyoming</td>\n",
       "      <td>5.84</td>\n",
       "      <td>567025</td>\n",
       "      <td>97093</td>\n",
       "    </tr>\n",
       "    <tr>\n",
       "      <td>3</td>\n",
       "      <td>Wyoming</td>\n",
       "      <td>2020-01-06</td>\n",
       "      <td>0.0</td>\n",
       "      <td>0.0</td>\n",
       "      <td>0.0</td>\n",
       "      <td>0.0</td>\n",
       "      <td>0.0</td>\n",
       "      <td>0.0</td>\n",
       "      <td>0.0</td>\n",
       "      <td>0.0</td>\n",
       "      <td>Wyoming</td>\n",
       "      <td>5.84</td>\n",
       "      <td>567025</td>\n",
       "      <td>97093</td>\n",
       "    </tr>\n",
       "    <tr>\n",
       "      <td>4</td>\n",
       "      <td>Wyoming</td>\n",
       "      <td>2020-01-07</td>\n",
       "      <td>0.0</td>\n",
       "      <td>0.0</td>\n",
       "      <td>0.0</td>\n",
       "      <td>0.0</td>\n",
       "      <td>0.0</td>\n",
       "      <td>0.0</td>\n",
       "      <td>0.0</td>\n",
       "      <td>0.0</td>\n",
       "      <td>Wyoming</td>\n",
       "      <td>5.84</td>\n",
       "      <td>567025</td>\n",
       "      <td>97093</td>\n",
       "    </tr>\n",
       "  </tbody>\n",
       "</table>\n",
       "</div>"
      ],
      "text/plain": [
       "  location_name       date  allbed_mean  ICUbed_mean  InvVen_mean  admis_mean  \\\n",
       "0       Wyoming 2020-01-03          0.0          0.0          0.0         0.0   \n",
       "1       Wyoming 2020-01-04          0.0          0.0          0.0         0.0   \n",
       "2       Wyoming 2020-01-05          0.0          0.0          0.0         0.0   \n",
       "3       Wyoming 2020-01-06          0.0          0.0          0.0         0.0   \n",
       "4       Wyoming 2020-01-07          0.0          0.0          0.0         0.0   \n",
       "\n",
       "   newICU_mean  totdea_mean  bedover_mean  icuover_mean    State  Density  \\\n",
       "0          0.0          0.0           0.0           0.0  Wyoming     5.84   \n",
       "1          0.0          0.0           0.0           0.0  Wyoming     5.84   \n",
       "2          0.0          0.0           0.0           0.0  Wyoming     5.84   \n",
       "3          0.0          0.0           0.0           0.0  Wyoming     5.84   \n",
       "4          0.0          0.0           0.0           0.0  Wyoming     5.84   \n",
       "\n",
       "      Pop  LandArea  \n",
       "0  567025     97093  \n",
       "1  567025     97093  \n",
       "2  567025     97093  \n",
       "3  567025     97093  \n",
       "4  567025     97093  "
      ]
     },
     "execution_count": 13,
     "metadata": {},
     "output_type": "execute_result"
    }
   ],
   "source": [
    "hospital_pop = pd.merge(hospital_subset, population_den, left_on = \"location_name\", right_on = \"State\", how = \"inner\")\n",
    "len(hospital_pop[\"location_name\"].unique())\n",
    "hospital_pop.head()"
   ]
  },
  {
   "cell_type": "code",
   "execution_count": 15,
   "metadata": {},
   "outputs": [],
   "source": [
    "hospital_pop_subset = hospital_pop[hospital_pop[\"date\"] <= \"2020-11-05\"]\n",
    "## We are limiting our study to 5th of April \n",
    "hospital_pop_social = pd.merge(hospital_pop_subset, social_dist, left_on = [\"location_name\"], right_on = [\"State.1\"], how = \"inner\")\n",
    "## merging hospital and population data with social distancing data "
   ]
  },
  {
   "cell_type": "code",
   "execution_count": 16,
   "metadata": {
    "scrolled": true
   },
   "outputs": [
    {
     "data": {
      "text/plain": [
       "Series([], Name: social_dist_count, dtype: timedelta64[ns])"
      ]
     },
     "execution_count": 16,
     "metadata": {},
     "output_type": "execute_result"
    }
   ],
   "source": [
    "## simple date time operation to find the number of days since the social distancing lockdown \n",
    "hospital_pop_social[\"Social distance start date\"] = pd.to_datetime(hospital_pop_social[\"Social distance start date\"]) \n",
    "hospital_pop_social[\"social_dist_count\"] = hospital_pop_social[\"date\"] - hospital_pop_social[\"Social distance start date\"]\n",
    "hospital_pop_social.loc[hospital_pop_social[\"social_dist_count\"] <  pd.Timedelta('0 days'),\"social_dist_count\"] = pd.Timedelta('0 days')\n",
    "hospital_pop_social[hospital_pop_social[\"social_dist_count\"] <  pd.Timedelta('0 days')][\"social_dist_count\"]"
   ]
  },
  {
   "cell_type": "code",
   "execution_count": 17,
   "metadata": {},
   "outputs": [],
   "source": [
    "## removing unneccesary elements \n",
    "hospital_pop_social = hospital_pop_social.drop([\"State.1\"],axis = 1)"
   ]
  },
  {
   "cell_type": "code",
   "execution_count": 18,
   "metadata": {},
   "outputs": [],
   "source": [
    "## merging hospital data with Covid cases data \n",
    "hospi_pop_soc_cases = pd.merge(hospital_pop_social, cases, \n",
    "                               left_on = [\"location_name\",\"date\"], right_on = [\"state\",\"date\"], \n",
    "                               how = \"inner\")"
   ]
  },
  {
   "cell_type": "code",
   "execution_count": 19,
   "metadata": {},
   "outputs": [],
   "source": [
    "hospi_pop_soc_cases = hospi_pop_soc_cases.drop([\"state\"],axis = 1)"
   ]
  },
  {
   "cell_type": "code",
   "execution_count": 20,
   "metadata": {},
   "outputs": [],
   "source": [
    "## removing unneccesary elements \n",
    "hospi_pop_soc_cases_all_bed = hospi_pop_soc_cases.drop(hospi_pop_soc_cases.columns[[3,4,5,6,7,8,9]], axis=1, inplace=False)"
   ]
  },
  {
   "cell_type": "code",
   "execution_count": 22,
   "metadata": {},
   "outputs": [],
   "source": [
    "## merging hospital data with Demographic data \n",
    "hospi_pop_soc_cases_all_bed = pd.merge(hospi_pop_soc_cases_all_bed,\n",
    "                                       demographic_subset,\n",
    "                                      left_on = [\"location_name\"], right_on = [\"State\"],how = \"inner\")"
   ]
  },
  {
   "cell_type": "code",
   "execution_count": 23,
   "metadata": {},
   "outputs": [],
   "source": [
    "## removing unneccesary elements \n",
    "hospi_pop_soc_cases_all_bed = hospi_pop_soc_cases_all_bed.drop([\"State_x\",\"State_y\",\"fips (Govt. code)\",\n",
    "                                  \"State Groups\",\"Social distance start date\"],axis=1)"
   ]
  },
  {
   "cell_type": "code",
   "execution_count": 24,
   "metadata": {},
   "outputs": [
    {
     "data": {
      "text/html": [
       "<div>\n",
       "<style scoped>\n",
       "    .dataframe tbody tr th:only-of-type {\n",
       "        vertical-align: middle;\n",
       "    }\n",
       "\n",
       "    .dataframe tbody tr th {\n",
       "        vertical-align: top;\n",
       "    }\n",
       "\n",
       "    .dataframe thead th {\n",
       "        text-align: right;\n",
       "    }\n",
       "</style>\n",
       "<table border=\"1\" class=\"dataframe\">\n",
       "  <thead>\n",
       "    <tr style=\"text-align: right;\">\n",
       "      <th></th>\n",
       "      <th>location_name</th>\n",
       "      <th>date</th>\n",
       "      <th>allbed_mean</th>\n",
       "      <th>Density</th>\n",
       "      <th>Pop</th>\n",
       "      <th>LandArea</th>\n",
       "      <th>social_dist_count</th>\n",
       "      <th>cases</th>\n",
       "      <th>deaths</th>\n",
       "      <th>State Group</th>\n",
       "      <th>...</th>\n",
       "      <th>Percent 75 to 84 years</th>\n",
       "      <th>Percent 85 years and over</th>\n",
       "      <th>Median age (years)</th>\n",
       "      <th>Percent One White</th>\n",
       "      <th>Percent One Black or African American</th>\n",
       "      <th>Percent One American Indian and Alaska Native</th>\n",
       "      <th>Percent Asian</th>\n",
       "      <th>Percent One Native Hawaiian and Other Pacific Islander</th>\n",
       "      <th>Percent One Some other race</th>\n",
       "      <th>Percent HISPANIC OR LATINO AND Hispanic or Latino</th>\n",
       "    </tr>\n",
       "  </thead>\n",
       "  <tbody>\n",
       "    <tr>\n",
       "      <td>0</td>\n",
       "      <td>Wyoming</td>\n",
       "      <td>2020-03-11</td>\n",
       "      <td>0.000000</td>\n",
       "      <td>5.8400</td>\n",
       "      <td>567025</td>\n",
       "      <td>97093</td>\n",
       "      <td>0 days</td>\n",
       "      <td>1</td>\n",
       "      <td>0</td>\n",
       "      <td>Bottom</td>\n",
       "      <td>...</td>\n",
       "      <td>4.8</td>\n",
       "      <td>1.6</td>\n",
       "      <td>38.5</td>\n",
       "      <td>91.5</td>\n",
       "      <td>0.6</td>\n",
       "      <td>2.801448</td>\n",
       "      <td>1.0</td>\n",
       "      <td>0.2</td>\n",
       "      <td>1.5</td>\n",
       "      <td>10.0</td>\n",
       "    </tr>\n",
       "    <tr>\n",
       "      <td>1</td>\n",
       "      <td>Wyoming</td>\n",
       "      <td>2020-03-12</td>\n",
       "      <td>0.000000</td>\n",
       "      <td>5.8400</td>\n",
       "      <td>567025</td>\n",
       "      <td>97093</td>\n",
       "      <td>0 days</td>\n",
       "      <td>1</td>\n",
       "      <td>0</td>\n",
       "      <td>Bottom</td>\n",
       "      <td>...</td>\n",
       "      <td>4.8</td>\n",
       "      <td>1.6</td>\n",
       "      <td>38.5</td>\n",
       "      <td>91.5</td>\n",
       "      <td>0.6</td>\n",
       "      <td>2.801448</td>\n",
       "      <td>1.0</td>\n",
       "      <td>0.2</td>\n",
       "      <td>1.5</td>\n",
       "      <td>10.0</td>\n",
       "    </tr>\n",
       "    <tr>\n",
       "      <td>2</td>\n",
       "      <td>Wyoming</td>\n",
       "      <td>2020-03-13</td>\n",
       "      <td>0.000000</td>\n",
       "      <td>5.8400</td>\n",
       "      <td>567025</td>\n",
       "      <td>97093</td>\n",
       "      <td>0 days</td>\n",
       "      <td>2</td>\n",
       "      <td>0</td>\n",
       "      <td>Bottom</td>\n",
       "      <td>...</td>\n",
       "      <td>4.8</td>\n",
       "      <td>1.6</td>\n",
       "      <td>38.5</td>\n",
       "      <td>91.5</td>\n",
       "      <td>0.6</td>\n",
       "      <td>2.801448</td>\n",
       "      <td>1.0</td>\n",
       "      <td>0.2</td>\n",
       "      <td>1.5</td>\n",
       "      <td>10.0</td>\n",
       "    </tr>\n",
       "    <tr>\n",
       "      <td>3</td>\n",
       "      <td>Wyoming</td>\n",
       "      <td>2020-03-14</td>\n",
       "      <td>0.000000</td>\n",
       "      <td>5.8400</td>\n",
       "      <td>567025</td>\n",
       "      <td>97093</td>\n",
       "      <td>0 days</td>\n",
       "      <td>3</td>\n",
       "      <td>0</td>\n",
       "      <td>Bottom</td>\n",
       "      <td>...</td>\n",
       "      <td>4.8</td>\n",
       "      <td>1.6</td>\n",
       "      <td>38.5</td>\n",
       "      <td>91.5</td>\n",
       "      <td>0.6</td>\n",
       "      <td>2.801448</td>\n",
       "      <td>1.0</td>\n",
       "      <td>0.2</td>\n",
       "      <td>1.5</td>\n",
       "      <td>10.0</td>\n",
       "    </tr>\n",
       "    <tr>\n",
       "      <td>4</td>\n",
       "      <td>Wyoming</td>\n",
       "      <td>2020-03-15</td>\n",
       "      <td>0.000000</td>\n",
       "      <td>5.8400</td>\n",
       "      <td>567025</td>\n",
       "      <td>97093</td>\n",
       "      <td>0 days</td>\n",
       "      <td>3</td>\n",
       "      <td>0</td>\n",
       "      <td>Bottom</td>\n",
       "      <td>...</td>\n",
       "      <td>4.8</td>\n",
       "      <td>1.6</td>\n",
       "      <td>38.5</td>\n",
       "      <td>91.5</td>\n",
       "      <td>0.6</td>\n",
       "      <td>2.801448</td>\n",
       "      <td>1.0</td>\n",
       "      <td>0.2</td>\n",
       "      <td>1.5</td>\n",
       "      <td>10.0</td>\n",
       "    </tr>\n",
       "    <tr>\n",
       "      <td>...</td>\n",
       "      <td>...</td>\n",
       "      <td>...</td>\n",
       "      <td>...</td>\n",
       "      <td>...</td>\n",
       "      <td>...</td>\n",
       "      <td>...</td>\n",
       "      <td>...</td>\n",
       "      <td>...</td>\n",
       "      <td>...</td>\n",
       "      <td>...</td>\n",
       "      <td>...</td>\n",
       "      <td>...</td>\n",
       "      <td>...</td>\n",
       "      <td>...</td>\n",
       "      <td>...</td>\n",
       "      <td>...</td>\n",
       "      <td>...</td>\n",
       "      <td>...</td>\n",
       "      <td>...</td>\n",
       "      <td>...</td>\n",
       "      <td>...</td>\n",
       "    </tr>\n",
       "    <tr>\n",
       "      <td>2071</td>\n",
       "      <td>Alabama</td>\n",
       "      <td>2020-04-07</td>\n",
       "      <td>453.147491</td>\n",
       "      <td>96.9221</td>\n",
       "      <td>4908621</td>\n",
       "      <td>50645</td>\n",
       "      <td>3 days</td>\n",
       "      <td>2197</td>\n",
       "      <td>64</td>\n",
       "      <td>Middle -2</td>\n",
       "      <td>...</td>\n",
       "      <td>5.1</td>\n",
       "      <td>1.7</td>\n",
       "      <td>39.3</td>\n",
       "      <td>67.7</td>\n",
       "      <td>26.7</td>\n",
       "      <td>0.451383</td>\n",
       "      <td>1.3</td>\n",
       "      <td>0.0</td>\n",
       "      <td>1.7</td>\n",
       "      <td>4.3</td>\n",
       "    </tr>\n",
       "    <tr>\n",
       "      <td>2072</td>\n",
       "      <td>Alabama</td>\n",
       "      <td>2020-04-08</td>\n",
       "      <td>507.371258</td>\n",
       "      <td>96.9221</td>\n",
       "      <td>4908621</td>\n",
       "      <td>50645</td>\n",
       "      <td>4 days</td>\n",
       "      <td>2499</td>\n",
       "      <td>67</td>\n",
       "      <td>Middle -2</td>\n",
       "      <td>...</td>\n",
       "      <td>5.1</td>\n",
       "      <td>1.7</td>\n",
       "      <td>39.3</td>\n",
       "      <td>67.7</td>\n",
       "      <td>26.7</td>\n",
       "      <td>0.451383</td>\n",
       "      <td>1.3</td>\n",
       "      <td>0.0</td>\n",
       "      <td>1.7</td>\n",
       "      <td>4.3</td>\n",
       "    </tr>\n",
       "    <tr>\n",
       "      <td>2073</td>\n",
       "      <td>Alabama</td>\n",
       "      <td>2020-04-09</td>\n",
       "      <td>513.796855</td>\n",
       "      <td>96.9221</td>\n",
       "      <td>4908621</td>\n",
       "      <td>50645</td>\n",
       "      <td>5 days</td>\n",
       "      <td>2838</td>\n",
       "      <td>78</td>\n",
       "      <td>Middle -2</td>\n",
       "      <td>...</td>\n",
       "      <td>5.1</td>\n",
       "      <td>1.7</td>\n",
       "      <td>39.3</td>\n",
       "      <td>67.7</td>\n",
       "      <td>26.7</td>\n",
       "      <td>0.451383</td>\n",
       "      <td>1.3</td>\n",
       "      <td>0.0</td>\n",
       "      <td>1.7</td>\n",
       "      <td>4.3</td>\n",
       "    </tr>\n",
       "    <tr>\n",
       "      <td>2074</td>\n",
       "      <td>Alabama</td>\n",
       "      <td>2020-04-10</td>\n",
       "      <td>600.716086</td>\n",
       "      <td>96.9221</td>\n",
       "      <td>4908621</td>\n",
       "      <td>50645</td>\n",
       "      <td>6 days</td>\n",
       "      <td>3008</td>\n",
       "      <td>80</td>\n",
       "      <td>Middle -2</td>\n",
       "      <td>...</td>\n",
       "      <td>5.1</td>\n",
       "      <td>1.7</td>\n",
       "      <td>39.3</td>\n",
       "      <td>67.7</td>\n",
       "      <td>26.7</td>\n",
       "      <td>0.451383</td>\n",
       "      <td>1.3</td>\n",
       "      <td>0.0</td>\n",
       "      <td>1.7</td>\n",
       "      <td>4.3</td>\n",
       "    </tr>\n",
       "    <tr>\n",
       "      <td>2075</td>\n",
       "      <td>Alabama</td>\n",
       "      <td>2020-04-11</td>\n",
       "      <td>670.648187</td>\n",
       "      <td>96.9221</td>\n",
       "      <td>4908621</td>\n",
       "      <td>50645</td>\n",
       "      <td>7 days</td>\n",
       "      <td>3262</td>\n",
       "      <td>93</td>\n",
       "      <td>Middle -2</td>\n",
       "      <td>...</td>\n",
       "      <td>5.1</td>\n",
       "      <td>1.7</td>\n",
       "      <td>39.3</td>\n",
       "      <td>67.7</td>\n",
       "      <td>26.7</td>\n",
       "      <td>0.451383</td>\n",
       "      <td>1.3</td>\n",
       "      <td>0.0</td>\n",
       "      <td>1.7</td>\n",
       "      <td>4.3</td>\n",
       "    </tr>\n",
       "  </tbody>\n",
       "</table>\n",
       "<p>2076 rows × 35 columns</p>\n",
       "</div>"
      ],
      "text/plain": [
       "     location_name       date  allbed_mean  Density      Pop  LandArea  \\\n",
       "0          Wyoming 2020-03-11     0.000000   5.8400   567025     97093   \n",
       "1          Wyoming 2020-03-12     0.000000   5.8400   567025     97093   \n",
       "2          Wyoming 2020-03-13     0.000000   5.8400   567025     97093   \n",
       "3          Wyoming 2020-03-14     0.000000   5.8400   567025     97093   \n",
       "4          Wyoming 2020-03-15     0.000000   5.8400   567025     97093   \n",
       "...            ...        ...          ...      ...      ...       ...   \n",
       "2071       Alabama 2020-04-07   453.147491  96.9221  4908621     50645   \n",
       "2072       Alabama 2020-04-08   507.371258  96.9221  4908621     50645   \n",
       "2073       Alabama 2020-04-09   513.796855  96.9221  4908621     50645   \n",
       "2074       Alabama 2020-04-10   600.716086  96.9221  4908621     50645   \n",
       "2075       Alabama 2020-04-11   670.648187  96.9221  4908621     50645   \n",
       "\n",
       "     social_dist_count  cases  deaths State Group  ...  \\\n",
       "0               0 days      1       0      Bottom  ...   \n",
       "1               0 days      1       0      Bottom  ...   \n",
       "2               0 days      2       0      Bottom  ...   \n",
       "3               0 days      3       0      Bottom  ...   \n",
       "4               0 days      3       0      Bottom  ...   \n",
       "...                ...    ...     ...         ...  ...   \n",
       "2071            3 days   2197      64   Middle -2  ...   \n",
       "2072            4 days   2499      67   Middle -2  ...   \n",
       "2073            5 days   2838      78   Middle -2  ...   \n",
       "2074            6 days   3008      80   Middle -2  ...   \n",
       "2075            7 days   3262      93   Middle -2  ...   \n",
       "\n",
       "      Percent 75 to 84 years  Percent 85 years and over  Median age (years)  \\\n",
       "0                        4.8                        1.6                38.5   \n",
       "1                        4.8                        1.6                38.5   \n",
       "2                        4.8                        1.6                38.5   \n",
       "3                        4.8                        1.6                38.5   \n",
       "4                        4.8                        1.6                38.5   \n",
       "...                      ...                        ...                 ...   \n",
       "2071                     5.1                        1.7                39.3   \n",
       "2072                     5.1                        1.7                39.3   \n",
       "2073                     5.1                        1.7                39.3   \n",
       "2074                     5.1                        1.7                39.3   \n",
       "2075                     5.1                        1.7                39.3   \n",
       "\n",
       "      Percent One White  Percent One Black or African American  \\\n",
       "0                  91.5                                    0.6   \n",
       "1                  91.5                                    0.6   \n",
       "2                  91.5                                    0.6   \n",
       "3                  91.5                                    0.6   \n",
       "4                  91.5                                    0.6   \n",
       "...                 ...                                    ...   \n",
       "2071               67.7                                   26.7   \n",
       "2072               67.7                                   26.7   \n",
       "2073               67.7                                   26.7   \n",
       "2074               67.7                                   26.7   \n",
       "2075               67.7                                   26.7   \n",
       "\n",
       "      Percent One American Indian and Alaska Native  Percent Asian  \\\n",
       "0                                          2.801448            1.0   \n",
       "1                                          2.801448            1.0   \n",
       "2                                          2.801448            1.0   \n",
       "3                                          2.801448            1.0   \n",
       "4                                          2.801448            1.0   \n",
       "...                                             ...            ...   \n",
       "2071                                       0.451383            1.3   \n",
       "2072                                       0.451383            1.3   \n",
       "2073                                       0.451383            1.3   \n",
       "2074                                       0.451383            1.3   \n",
       "2075                                       0.451383            1.3   \n",
       "\n",
       "      Percent One Native Hawaiian and Other Pacific Islander  \\\n",
       "0                                                   0.2        \n",
       "1                                                   0.2        \n",
       "2                                                   0.2        \n",
       "3                                                   0.2        \n",
       "4                                                   0.2        \n",
       "...                                                 ...        \n",
       "2071                                                0.0        \n",
       "2072                                                0.0        \n",
       "2073                                                0.0        \n",
       "2074                                                0.0        \n",
       "2075                                                0.0        \n",
       "\n",
       "      Percent One Some other race  \\\n",
       "0                             1.5   \n",
       "1                             1.5   \n",
       "2                             1.5   \n",
       "3                             1.5   \n",
       "4                             1.5   \n",
       "...                           ...   \n",
       "2071                          1.7   \n",
       "2072                          1.7   \n",
       "2073                          1.7   \n",
       "2074                          1.7   \n",
       "2075                          1.7   \n",
       "\n",
       "      Percent HISPANIC OR LATINO AND Hispanic or Latino  \n",
       "0                                                  10.0  \n",
       "1                                                  10.0  \n",
       "2                                                  10.0  \n",
       "3                                                  10.0  \n",
       "4                                                  10.0  \n",
       "...                                                 ...  \n",
       "2071                                                4.3  \n",
       "2072                                                4.3  \n",
       "2073                                                4.3  \n",
       "2074                                                4.3  \n",
       "2075                                                4.3  \n",
       "\n",
       "[2076 rows x 35 columns]"
      ]
     },
     "execution_count": 24,
     "metadata": {},
     "output_type": "execute_result"
    }
   ],
   "source": [
    "hospi_pop_soc_cases_all_bed"
   ]
  },
  {
   "cell_type": "code",
   "execution_count": 25,
   "metadata": {},
   "outputs": [],
   "source": [
    "#setting social distance count as a number for the model\n",
    "hospi_pop_soc_cases_all_bed[\"social_dist_count\"] = hospi_pop_soc_cases_all_bed[\"social_dist_count\"].dt.days"
   ]
  },
  {
   "cell_type": "code",
   "execution_count": 26,
   "metadata": {},
   "outputs": [],
   "source": [
    "# setting date as a timeseries index \n",
    "hospi_pop_soc_cases_all_bed[\"date_index\"] = (hospi_pop_soc_cases_all_bed[\"date\"]-min(hospi_pop_soc_cases_all_bed[\"date\"])).dt.days"
   ]
  },
  {
   "cell_type": "code",
   "execution_count": 27,
   "metadata": {},
   "outputs": [],
   "source": [
    "# removing unneccesary elements \n",
    "hospi_pop_soc_cases_all_bed = hospi_pop_soc_cases_all_bed.drop([\"date\"],axis=1)"
   ]
  },
  {
   "cell_type": "code",
   "execution_count": 28,
   "metadata": {},
   "outputs": [
    {
     "data": {
      "text/plain": [
       "array(['Bottom', 'Middle -1', 'Middle -2', 'Top', 'Middle -3', 'NY & NJ'],\n",
       "      dtype=object)"
      ]
     },
     "execution_count": 28,
     "metadata": {},
     "output_type": "execute_result"
    }
   ],
   "source": [
    "# State group as you will see in the tableau dashboard, the states are grouped by the number of cases\n",
    "# NY and NJ have the highest cases \n",
    "# The top states are the states with cases 22,000 cases\n",
    "# Botton states are the ones less than 3000 cases \n",
    "# Middle cases fall in between \n",
    "# this clusters was done purely visually as there was clear demarkation once ploted \n",
    "pd.unique(hospi_pop_soc_cases_all_bed[\"State Group\"])"
   ]
  },
  {
   "cell_type": "code",
   "execution_count": 29,
   "metadata": {},
   "outputs": [],
   "source": [
    "# state group mapping\n",
    "hospi_pop_soc_cases_all_bed[\"State Group\"] = hospi_pop_soc_cases_all_bed[\"State Group\"].map({'NY & NJ': 5, 'Top': 4, 'Middle -1': 3, 'Middle -2': 2, 'Middle -3': 1, 'Bottom':0})"
   ]
  },
  {
   "cell_type": "code",
   "execution_count": 30,
   "metadata": {},
   "outputs": [
    {
     "data": {
      "text/plain": [
       "array([0, 3, 2, 4, 1, 5], dtype=int64)"
      ]
     },
     "execution_count": 30,
     "metadata": {},
     "output_type": "execute_result"
    }
   ],
   "source": [
    "# check\n",
    "pd.unique(hospi_pop_soc_cases_all_bed[\"State Group\"])"
   ]
  },
  {
   "cell_type": "markdown",
   "metadata": {},
   "source": [
    "## Modelling - State space model with autoregession"
   ]
  },
  {
   "cell_type": "code",
   "execution_count": 31,
   "metadata": {},
   "outputs": [],
   "source": [
    "# reassigning\n",
    "input_df = hospi_pop_soc_cases_all_bed"
   ]
  },
  {
   "cell_type": "code",
   "execution_count": 32,
   "metadata": {},
   "outputs": [
    {
     "name": "stdout",
     "output_type": "stream",
     "text": [
      "<class 'pandas.core.frame.DataFrame'>\n",
      "Int64Index: 2076 entries, 0 to 2075\n",
      "Data columns (total 35 columns):\n",
      "location_name                                             2076 non-null object\n",
      "allbed_mean                                               2076 non-null float64\n",
      "Density                                                   2076 non-null float64\n",
      "Pop                                                       2076 non-null int64\n",
      "LandArea                                                  2076 non-null int64\n",
      "social_dist_count                                         1889 non-null float64\n",
      "cases                                                     2076 non-null int64\n",
      "deaths                                                    2076 non-null int64\n",
      "State Group                                               2076 non-null int64\n",
      "Pop Density                                               2076 non-null float64\n",
      "Percent Male                                              2076 non-null float64\n",
      "Percent Female                                            2076 non-null float64\n",
      "Sex ratio (males per 100 females)                         2076 non-null float64\n",
      "Percent Under 5 years                                     2076 non-null float64\n",
      "Percent 5 to 9 years                                      2076 non-null float64\n",
      "Percent 10 to 14 years                                    2076 non-null float64\n",
      "Percent 15 to 19 years                                    2076 non-null float64\n",
      "Percent 20 to 24 years                                    2076 non-null float64\n",
      "Percent 25 to 34 years                                    2076 non-null float64\n",
      "Percent 35 to 44 years                                    2076 non-null float64\n",
      "Percent 45 to 54 years                                    2076 non-null float64\n",
      "Percent 55 to 59 years                                    2076 non-null float64\n",
      "Percent 60 to 64 years                                    2076 non-null float64\n",
      "Percent 65 to 74 years                                    2076 non-null float64\n",
      "Percent 75 to 84 years                                    2076 non-null float64\n",
      "Percent 85 years and over                                 2076 non-null float64\n",
      "Median age (years)                                        2076 non-null float64\n",
      "Percent One White                                         2076 non-null float64\n",
      "Percent One Black or African American                     2076 non-null float64\n",
      "Percent One American Indian and Alaska Native             2076 non-null float64\n",
      "Percent Asian                                             2076 non-null float64\n",
      "Percent One Native Hawaiian and Other Pacific Islander    2076 non-null float64\n",
      "Percent One Some other race                               2076 non-null float64\n",
      "Percent HISPANIC OR LATINO AND Hispanic or Latino         2076 non-null float64\n",
      "date_index                                                2076 non-null int64\n",
      "dtypes: float64(28), int64(6), object(1)\n",
      "memory usage: 583.9+ KB\n"
     ]
    }
   ],
   "source": [
    "# To check if all values are either int or float \n",
    "input_df.info()"
   ]
  },
  {
   "cell_type": "code",
   "execution_count": 33,
   "metadata": {},
   "outputs": [],
   "source": [
    "# US states mapping\n",
    "states = pd.unique(input_df.location_name)"
   ]
  },
  {
   "cell_type": "code",
   "execution_count": 34,
   "metadata": {},
   "outputs": [],
   "source": [
    "# loop to map states\n",
    "state_num = []\n",
    "for state in states:\n",
    "    state_num.append(sum(input_df.location_name==state))"
   ]
  },
  {
   "cell_type": "code",
   "execution_count": 35,
   "metadata": {},
   "outputs": [
    {
     "data": {
      "text/plain": [
       "(26, 82)"
      ]
     },
     "execution_count": 35,
     "metadata": {},
     "output_type": "execute_result"
    }
   ],
   "source": [
    "# check \n",
    "min(state_num), max(state_num)"
   ]
  },
  {
   "cell_type": "code",
   "execution_count": 36,
   "metadata": {},
   "outputs": [
    {
     "data": {
      "text/plain": [
       "['allbed_mean',\n",
       " 'Density',\n",
       " 'Pop',\n",
       " 'LandArea',\n",
       " 'social_dist_count',\n",
       " 'cases',\n",
       " 'deaths',\n",
       " 'State Group',\n",
       " 'Pop Density',\n",
       " 'Percent Male',\n",
       " 'Percent Female',\n",
       " 'Sex ratio (males per 100 females)',\n",
       " 'Percent Under 5 years',\n",
       " 'Percent 5 to 9 years',\n",
       " 'Percent 10 to 14 years',\n",
       " 'Percent 15 to 19 years',\n",
       " 'Percent 20 to 24 years',\n",
       " 'Percent 25 to 34 years',\n",
       " 'Percent 35 to 44 years',\n",
       " 'Percent 45 to 54 years',\n",
       " 'Percent 55 to 59 years',\n",
       " 'Percent 60 to 64 years',\n",
       " 'Percent 65 to 74 years',\n",
       " 'Percent 75 to 84 years',\n",
       " 'Percent 85 years and over',\n",
       " 'Median age (years)',\n",
       " 'Percent One White',\n",
       " 'Percent One Black or African American',\n",
       " 'Percent One American Indian and Alaska Native',\n",
       " 'Percent Asian',\n",
       " 'Percent One Native Hawaiian and Other Pacific Islander',\n",
       " 'Percent One Some other race',\n",
       " 'Percent HISPANIC OR LATINO AND Hispanic or Latino']"
      ]
     },
     "execution_count": 36,
     "metadata": {},
     "output_type": "execute_result"
    }
   ],
   "source": [
    "## the columns in the final dataframe \n",
    "['allbed_mean', 'Density', 'Pop', 'LandArea', 'social_dist_count',\n",
    "       'cases', 'deaths', 'State Group', 'Pop Density', 'Percent Male',\n",
    "       'Percent Female', 'Sex ratio (males per 100 females)',\n",
    "       'Percent Under 5 years', 'Percent 5 to 9 years',\n",
    "       'Percent 10 to 14 years', 'Percent 15 to 19 years',\n",
    "       'Percent 20 to 24 years', 'Percent 25 to 34 years',\n",
    "       'Percent 35 to 44 years', 'Percent 45 to 54 years',\n",
    "       'Percent 55 to 59 years', 'Percent 60 to 64 years',\n",
    "       'Percent 65 to 74 years', 'Percent 75 to 84 years',\n",
    "       'Percent 85 years and over', 'Median age (years)', 'Percent One White',\n",
    "       'Percent One Black or African American',\n",
    "       'Percent One American Indian and Alaska Native', 'Percent Asian',\n",
    "       'Percent One Native Hawaiian and Other Pacific Islander',\n",
    "       'Percent One Some other race',\n",
    "       'Percent HISPANIC OR LATINO AND Hispanic or Latino']"
   ]
  },
  {
   "cell_type": "markdown",
   "metadata": {},
   "source": [
    "Function that takes a window of time: \n",
    "Start window indicating the start date for the model and window size is the length of the time frame (taking week for this model)\n",
    "\n",
    "output of this function is "
   ]
  },
  {
   "cell_type": "code",
   "execution_count": 115,
   "metadata": {},
   "outputs": [],
   "source": [
    "\n",
    "def get_time_window(df, state, window_size=7, start_window=0, only_ar=False):\n",
    "    df = df[df.location_name==state]\n",
    "    df = df.sort_values(\"date_index\").drop([\"location_name\",\"date_index\"],axis=1)\n",
    "    \n",
    "    df_np = df.to_numpy()\n",
    "    row_num = df_np.shape[0]\n",
    "\n",
    "    if only_ar:\n",
    "        output = df_np[window_size:,:1].copy()\n",
    "    else:\n",
    "        output = df_np[window_size:].copy()\n",
    "    for i in range(start_window, window_size):\n",
    "        output = np.concatenate([output, df_np[i:row_num-window_size+i,:1]], axis=1)\n",
    "\n",
    "    return output\n",
    "  "
   ]
  },
  {
   "cell_type": "code",
   "execution_count": 38,
   "metadata": {},
   "outputs": [],
   "source": [
    "# social distancing marked as -1 for states where its not enforeced \n",
    "\n",
    "input_df[\"social_dist_active\"] = 1\n",
    "input_df.loc[pd.isnull(input_df[\"social_dist_count\"]),\"social_dist_active\"] = 0\n",
    "input_df.loc[pd.isnull(input_df[\"social_dist_count\"]),\"social_dist_count\"] = -1"
   ]
  },
  {
   "cell_type": "code",
   "execution_count": 142,
   "metadata": {},
   "outputs": [],
   "source": [
    "np_mat_list = []\n",
    "for state in states:\n",
    "    np_mat_list.append(get_time_window(input_df, state,7,0, only_ar=False))"
   ]
  },
  {
   "cell_type": "code",
   "execution_count": 143,
   "metadata": {},
   "outputs": [],
   "source": [
    "all_mat = np.concatenate(np_mat_list)"
   ]
  },
  {
   "cell_type": "code",
   "execution_count": 144,
   "metadata": {},
   "outputs": [
    {
     "data": {
      "text/plain": [
       "(1726, 41)"
      ]
     },
     "execution_count": 144,
     "metadata": {},
     "output_type": "execute_result"
    }
   ],
   "source": [
    "all_mat.shape"
   ]
  },
  {
   "cell_type": "code",
   "execution_count": 145,
   "metadata": {},
   "outputs": [
    {
     "data": {
      "text/plain": [
       "199654.70713097753"
      ]
     },
     "execution_count": 145,
     "metadata": {},
     "output_type": "execute_result"
    }
   ],
   "source": [
    "#check not null\n",
    "np.mean(all_mat)\n"
   ]
  },
  {
   "cell_type": "code",
   "execution_count": 146,
   "metadata": {},
   "outputs": [],
   "source": [
    "# linear auto regression function with ridge regularization\n",
    "def run_lin_reg(X, y, alpha=.5):\n",
    "    mean_X = np.mean(X, axis=0)\n",
    "    var_X = np.var(X, axis=0)\n",
    "    norm_X = (X-mean_X)/var_X\n",
    "    \n",
    "    mean_y = np.mean(y)\n",
    "    var_y = np.var(y)\n",
    "    norm_y = (y-mean_y)/var_y\n",
    "    reg = linear_model.Ridge(alpha = alpha)\n",
    "    reg.fit(norm_X, norm_y)\n",
    "    return mean_X, var_X, mean_y, var_y, reg\n",
    "\n",
    "def run_inference(X, mean_X, var_X, mean_y, var_y, reg):\n",
    "    norm_X = (X-mean_X)/var_X\n",
    "    return reg.predict(norm_X)*var_y + mean_y\n",
    "\n",
    "# Key KPI for our model \n",
    "def mean_square_error(y, y_hat):\n",
    "    return (np.sum((y-y_hat)**2)/y.shape[0])**0.5"
   ]
  },
  {
   "cell_type": "code",
   "execution_count": 147,
   "metadata": {},
   "outputs": [],
   "source": [
    "X, y  = all_mat[:,1:], all_mat[:,0]"
   ]
  },
  {
   "cell_type": "code",
   "execution_count": 148,
   "metadata": {},
   "outputs": [],
   "source": [
    "X_train, X_test, y_train, y_test = train_test_split(X, y, test_size=0.2, random_state=42)\n",
    "mean_X, var_X, mean_y, var_y, reg = run_lin_reg(X_train, y_train, alpha=0.00000001)"
   ]
  },
  {
   "cell_type": "code",
   "execution_count": 149,
   "metadata": {},
   "outputs": [
    {
     "data": {
      "text/plain": [
       "69.91565398537392"
      ]
     },
     "execution_count": 149,
     "metadata": {},
     "output_type": "execute_result"
    }
   ],
   "source": [
    "y_train_pred = run_inference(X_train, mean_X, var_X, mean_y, var_y, reg)\n",
    "mean_square_error(y_train, y_train_pred)"
   ]
  },
  {
   "cell_type": "code",
   "execution_count": 150,
   "metadata": {},
   "outputs": [
    {
     "data": {
      "text/plain": [
       "84.92007761063371"
      ]
     },
     "execution_count": 150,
     "metadata": {},
     "output_type": "execute_result"
    }
   ],
   "source": [
    "y_test_pred = run_inference(X_test, mean_X, var_X, mean_y, var_y, reg)\n",
    "mean_square_error(y_test, y_test_pred)"
   ]
  },
  {
   "cell_type": "code",
   "execution_count": 151,
   "metadata": {},
   "outputs": [],
   "source": [
    "y_y_hat = np.stack([y_train,y_train_pred],axis=1)"
   ]
  },
  {
   "cell_type": "code",
   "execution_count": 152,
   "metadata": {},
   "outputs": [],
   "source": [
    "y_y_hat_new = y_y_hat[y_y_hat[:,0].argsort(kind='mergesort')]"
   ]
  },
  {
   "cell_type": "code",
   "execution_count": 153,
   "metadata": {},
   "outputs": [
    {
     "data": {
      "text/plain": [
       "[<matplotlib.lines.Line2D at 0x27d8aaaad08>,\n",
       " <matplotlib.lines.Line2D at 0x27d8aaaaec8>]"
      ]
     },
     "execution_count": 153,
     "metadata": {},
     "output_type": "execute_result"
    },
    {
     "data": {
      "image/png": "[encoded data removed]",
      "text/plain": [
       "<Figure size 432x288 with 1 Axes>"
      ]
     },
     "metadata": {
      "needs_background": "light"
     },
     "output_type": "display_data"
    }
   ],
   "source": [
    "plt.plot(y_y_hat)"
   ]
  },
  {
   "cell_type": "code",
   "execution_count": 159,
   "metadata": {},
   "outputs": [
    {
     "data": {
      "text/plain": [
       "[<matplotlib.lines.Line2D at 0x27d89f72708>,\n",
       " <matplotlib.lines.Line2D at 0x27d8a46d1c8>]"
      ]
     },
     "execution_count": 159,
     "metadata": {},
     "output_type": "execute_result"
    },
    {
     "data": {
      "image/png": "[encoded data removed]",
      "text/plain": [
       "<Figure size 792x648 with 1 Axes>"
      ]
     },
     "metadata": {
      "needs_background": "light"
     },
     "output_type": "display_data"
    }
   ],
   "source": [
    "# we see that the predicted (orange) and actual(blue) values co-incinde to a large entent in the below graph indicating KPI success \n",
    "f, ax = plt.subplots(figsize=(11, 9))\n",
    "plt.plot(y_y_hat_new)"
   ]
  }
 ],
 "metadata": {
  "kernelspec": {
   "display_name": "Python 3",
   "language": "python",
   "name": "python3"
  },
  "language_info": {
   "codemirror_mode": {
    "name": "ipython",
    "version": 3
   },
   "file_extension": ".py",
   "mimetype": "text/x-python",
   "name": "python",
   "nbconvert_exporter": "python",
   "pygments_lexer": "ipython3",
   "version": "3.7.4"
  }
 },
 "nbformat": 4,
 "nbformat_minor": 2
}
